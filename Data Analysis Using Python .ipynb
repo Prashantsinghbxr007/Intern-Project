{
 "cells": [
  {
   "cell_type": "code",
   "execution_count": 34,
   "id": "01f60456",
   "metadata": {},
   "outputs": [],
   "source": [
    "# import the library\n",
    "import pandas as pd\n",
    "import seaborn as sns\n",
    "import matplotlib.pyplot as plt\n",
    "import numpy as np"
   ]
  },
  {
   "cell_type": "code",
   "execution_count": 35,
   "id": "97ba738e",
   "metadata": {},
   "outputs": [],
   "source": [
    "# load the data\n",
    "df=pd.read_csv(\"C:\\\\Users\\\\HP\\\\Desktop\\\\PropertyPrice_Data.csv\")"
   ]
  },
  {
   "cell_type": "code",
   "execution_count": 36,
   "id": "bda28bbe",
   "metadata": {},
   "outputs": [
    {
     "data": {
      "text/html": [
       "<div>\n",
       "<style scoped>\n",
       "    .dataframe tbody tr th:only-of-type {\n",
       "        vertical-align: middle;\n",
       "    }\n",
       "\n",
       "    .dataframe tbody tr th {\n",
       "        vertical-align: top;\n",
       "    }\n",
       "\n",
       "    .dataframe thead th {\n",
       "        text-align: right;\n",
       "    }\n",
       "</style>\n",
       "<table border=\"1\" class=\"dataframe\">\n",
       "  <thead>\n",
       "    <tr style=\"text-align: right;\">\n",
       "      <th></th>\n",
       "      <th>Id</th>\n",
       "      <th>Road_Type</th>\n",
       "      <th>Property_Shape</th>\n",
       "      <th>House_Type</th>\n",
       "      <th>House_Condition</th>\n",
       "      <th>Construction_Year</th>\n",
       "      <th>Remodel_Year</th>\n",
       "      <th>BsmtFinSF1</th>\n",
       "      <th>Total_Basement_Area</th>\n",
       "      <th>Air_Conditioning</th>\n",
       "      <th>...</th>\n",
       "      <th>Kitchen_Quality</th>\n",
       "      <th>Rooms_Above_Grade</th>\n",
       "      <th>Fireplaces</th>\n",
       "      <th>Garage</th>\n",
       "      <th>Garage_Built_Year</th>\n",
       "      <th>Garage_Area</th>\n",
       "      <th>Pool_Area</th>\n",
       "      <th>Miscellaneous_Value</th>\n",
       "      <th>Year_Sold</th>\n",
       "      <th>Sale_Price</th>\n",
       "    </tr>\n",
       "  </thead>\n",
       "  <tbody>\n",
       "    <tr>\n",
       "      <th>0</th>\n",
       "      <td>1</td>\n",
       "      <td>Paved</td>\n",
       "      <td>Reg</td>\n",
       "      <td>1Fam</td>\n",
       "      <td>5</td>\n",
       "      <td>2003</td>\n",
       "      <td>2003</td>\n",
       "      <td>706</td>\n",
       "      <td>856</td>\n",
       "      <td>Y</td>\n",
       "      <td>...</td>\n",
       "      <td>Gd</td>\n",
       "      <td>8</td>\n",
       "      <td>0</td>\n",
       "      <td>Attchd</td>\n",
       "      <td>2003.0</td>\n",
       "      <td>1085.793744</td>\n",
       "      <td>0</td>\n",
       "      <td>0</td>\n",
       "      <td>2008</td>\n",
       "      <td>208500</td>\n",
       "    </tr>\n",
       "    <tr>\n",
       "      <th>1</th>\n",
       "      <td>2</td>\n",
       "      <td>Paved</td>\n",
       "      <td>Reg</td>\n",
       "      <td>1Fam</td>\n",
       "      <td>8</td>\n",
       "      <td>1976</td>\n",
       "      <td>1976</td>\n",
       "      <td>978</td>\n",
       "      <td>1262</td>\n",
       "      <td>Y</td>\n",
       "      <td>...</td>\n",
       "      <td>TA</td>\n",
       "      <td>6</td>\n",
       "      <td>1</td>\n",
       "      <td>Attchd</td>\n",
       "      <td>1976.0</td>\n",
       "      <td>196.316304</td>\n",
       "      <td>0</td>\n",
       "      <td>0</td>\n",
       "      <td>2007</td>\n",
       "      <td>181500</td>\n",
       "    </tr>\n",
       "    <tr>\n",
       "      <th>2</th>\n",
       "      <td>3</td>\n",
       "      <td>Paved</td>\n",
       "      <td>IR1</td>\n",
       "      <td>1Fam</td>\n",
       "      <td>5</td>\n",
       "      <td>2001</td>\n",
       "      <td>2002</td>\n",
       "      <td>486</td>\n",
       "      <td>920</td>\n",
       "      <td>Y</td>\n",
       "      <td>...</td>\n",
       "      <td>Gd</td>\n",
       "      <td>6</td>\n",
       "      <td>1</td>\n",
       "      <td>Attchd</td>\n",
       "      <td>2001.0</td>\n",
       "      <td>218.068403</td>\n",
       "      <td>0</td>\n",
       "      <td>0</td>\n",
       "      <td>2008</td>\n",
       "      <td>223500</td>\n",
       "    </tr>\n",
       "    <tr>\n",
       "      <th>3</th>\n",
       "      <td>4</td>\n",
       "      <td>Paved</td>\n",
       "      <td>IR1</td>\n",
       "      <td>1Fam</td>\n",
       "      <td>5</td>\n",
       "      <td>1915</td>\n",
       "      <td>1970</td>\n",
       "      <td>216</td>\n",
       "      <td>756</td>\n",
       "      <td>Y</td>\n",
       "      <td>...</td>\n",
       "      <td>Gd</td>\n",
       "      <td>7</td>\n",
       "      <td>1</td>\n",
       "      <td>Detchd</td>\n",
       "      <td>1998.0</td>\n",
       "      <td>696.996439</td>\n",
       "      <td>0</td>\n",
       "      <td>0</td>\n",
       "      <td>2006</td>\n",
       "      <td>140000</td>\n",
       "    </tr>\n",
       "    <tr>\n",
       "      <th>4</th>\n",
       "      <td>5</td>\n",
       "      <td>Paved</td>\n",
       "      <td>IR1</td>\n",
       "      <td>1Fam</td>\n",
       "      <td>5</td>\n",
       "      <td>2000</td>\n",
       "      <td>2000</td>\n",
       "      <td>655</td>\n",
       "      <td>1145</td>\n",
       "      <td>Y</td>\n",
       "      <td>...</td>\n",
       "      <td>Gd</td>\n",
       "      <td>9</td>\n",
       "      <td>1</td>\n",
       "      <td>Attchd</td>\n",
       "      <td>2000.0</td>\n",
       "      <td>568.859882</td>\n",
       "      <td>0</td>\n",
       "      <td>0</td>\n",
       "      <td>2008</td>\n",
       "      <td>250000</td>\n",
       "    </tr>\n",
       "  </tbody>\n",
       "</table>\n",
       "<p>5 rows × 26 columns</p>\n",
       "</div>"
      ],
      "text/plain": [
       "   Id Road_Type Property_Shape House_Type  House_Condition  Construction_Year  \\\n",
       "0   1     Paved            Reg       1Fam                5               2003   \n",
       "1   2     Paved            Reg       1Fam                8               1976   \n",
       "2   3     Paved            IR1       1Fam                5               2001   \n",
       "3   4     Paved            IR1       1Fam                5               1915   \n",
       "4   5     Paved            IR1       1Fam                5               2000   \n",
       "\n",
       "   Remodel_Year  BsmtFinSF1  Total_Basement_Area Air_Conditioning  ...  \\\n",
       "0          2003         706                  856                Y  ...   \n",
       "1          1976         978                 1262                Y  ...   \n",
       "2          2002         486                  920                Y  ...   \n",
       "3          1970         216                  756                Y  ...   \n",
       "4          2000         655                 1145                Y  ...   \n",
       "\n",
       "   Kitchen_Quality  Rooms_Above_Grade  Fireplaces  Garage  Garage_Built_Year  \\\n",
       "0               Gd                  8           0  Attchd             2003.0   \n",
       "1               TA                  6           1  Attchd             1976.0   \n",
       "2               Gd                  6           1  Attchd             2001.0   \n",
       "3               Gd                  7           1  Detchd             1998.0   \n",
       "4               Gd                  9           1  Attchd             2000.0   \n",
       "\n",
       "   Garage_Area Pool_Area  Miscellaneous_Value  Year_Sold Sale_Price  \n",
       "0  1085.793744         0                    0       2008     208500  \n",
       "1   196.316304         0                    0       2007     181500  \n",
       "2   218.068403         0                    0       2008     223500  \n",
       "3   696.996439         0                    0       2006     140000  \n",
       "4   568.859882         0                    0       2008     250000  \n",
       "\n",
       "[5 rows x 26 columns]"
      ]
     },
     "execution_count": 36,
     "metadata": {},
     "output_type": "execute_result"
    }
   ],
   "source": [
    "# first five rows of data \n",
    "df.head()"
   ]
  },
  {
   "cell_type": "code",
   "execution_count": 37,
   "id": "6378313d",
   "metadata": {},
   "outputs": [],
   "source": [
    "#copy\n",
    "fullDf=df.copy()"
   ]
  },
  {
   "cell_type": "code",
   "execution_count": 38,
   "id": "1984ad72",
   "metadata": {},
   "outputs": [],
   "source": [
    "# Remove identifier column\n",
    "fullDf.drop('Id',axis=1,inplace=True)"
   ]
  },
  {
   "cell_type": "code",
   "execution_count": 39,
   "id": "37c89ae6",
   "metadata": {},
   "outputs": [
    {
     "data": {
      "text/plain": [
       "(1459, 25)"
      ]
     },
     "execution_count": 39,
     "metadata": {},
     "output_type": "execute_result"
    }
   ],
   "source": [
    "fullDf.shape"
   ]
  },
  {
   "cell_type": "code",
   "execution_count": 40,
   "id": "7ea872da",
   "metadata": {},
   "outputs": [
    {
     "name": "stdout",
     "output_type": "stream",
     "text": [
      "<class 'pandas.core.frame.DataFrame'>\n",
      "RangeIndex: 1459 entries, 0 to 1458\n",
      "Data columns (total 25 columns):\n",
      " #   Column                     Non-Null Count  Dtype  \n",
      "---  ------                     --------------  -----  \n",
      " 0   Road_Type                  1459 non-null   object \n",
      " 1   Property_Shape             1459 non-null   object \n",
      " 2   House_Type                 1459 non-null   object \n",
      " 3   House_Condition            1459 non-null   int64  \n",
      " 4   Construction_Year          1459 non-null   int64  \n",
      " 5   Remodel_Year               1459 non-null   int64  \n",
      " 6   BsmtFinSF1                 1459 non-null   int64  \n",
      " 7   Total_Basement_Area        1459 non-null   int64  \n",
      " 8   Air_Conditioning           1459 non-null   object \n",
      " 9   First_Floor_Area           1459 non-null   int64  \n",
      " 10  Second_Floor_Area          1459 non-null   int64  \n",
      " 11  LowQualFinSF               1459 non-null   int64  \n",
      " 12  Underground_Full_Bathroom  1459 non-null   int64  \n",
      " 13  Full_Bathroom_Above_Grade  1459 non-null   int64  \n",
      " 14  Bedroom_Above_Grade        1459 non-null   int64  \n",
      " 15  Kitchen_Quality            1459 non-null   object \n",
      " 16  Rooms_Above_Grade          1459 non-null   int64  \n",
      " 17  Fireplaces                 1459 non-null   int64  \n",
      " 18  Garage                     1378 non-null   object \n",
      " 19  Garage_Built_Year          1378 non-null   float64\n",
      " 20  Garage_Area                1459 non-null   float64\n",
      " 21  Pool_Area                  1459 non-null   int64  \n",
      " 22  Miscellaneous_Value        1459 non-null   int64  \n",
      " 23  Year_Sold                  1459 non-null   int64  \n",
      " 24  Sale_Price                 1459 non-null   int64  \n",
      "dtypes: float64(2), int64(17), object(6)\n",
      "memory usage: 285.1+ KB\n"
     ]
    }
   ],
   "source": [
    "#info\n",
    "fullDf.info()"
   ]
  },
  {
   "cell_type": "code",
   "execution_count": 41,
   "id": "85e3d412",
   "metadata": {},
   "outputs": [
    {
     "data": {
      "text/html": [
       "<div>\n",
       "<style scoped>\n",
       "    .dataframe tbody tr th:only-of-type {\n",
       "        vertical-align: middle;\n",
       "    }\n",
       "\n",
       "    .dataframe tbody tr th {\n",
       "        vertical-align: top;\n",
       "    }\n",
       "\n",
       "    .dataframe thead th {\n",
       "        text-align: right;\n",
       "    }\n",
       "</style>\n",
       "<table border=\"1\" class=\"dataframe\">\n",
       "  <thead>\n",
       "    <tr style=\"text-align: right;\">\n",
       "      <th></th>\n",
       "      <th>House_Condition</th>\n",
       "      <th>Construction_Year</th>\n",
       "      <th>Remodel_Year</th>\n",
       "      <th>BsmtFinSF1</th>\n",
       "      <th>Total_Basement_Area</th>\n",
       "      <th>First_Floor_Area</th>\n",
       "      <th>Second_Floor_Area</th>\n",
       "      <th>LowQualFinSF</th>\n",
       "      <th>Underground_Full_Bathroom</th>\n",
       "      <th>Full_Bathroom_Above_Grade</th>\n",
       "      <th>Bedroom_Above_Grade</th>\n",
       "      <th>Rooms_Above_Grade</th>\n",
       "      <th>Fireplaces</th>\n",
       "      <th>Garage_Built_Year</th>\n",
       "      <th>Garage_Area</th>\n",
       "      <th>Pool_Area</th>\n",
       "      <th>Miscellaneous_Value</th>\n",
       "      <th>Year_Sold</th>\n",
       "      <th>Sale_Price</th>\n",
       "    </tr>\n",
       "  </thead>\n",
       "  <tbody>\n",
       "    <tr>\n",
       "      <th>count</th>\n",
       "      <td>1459.000000</td>\n",
       "      <td>1459.000000</td>\n",
       "      <td>1459.000000</td>\n",
       "      <td>1459.000000</td>\n",
       "      <td>1459.000000</td>\n",
       "      <td>1459.000000</td>\n",
       "      <td>1459.000000</td>\n",
       "      <td>1459.000000</td>\n",
       "      <td>1459.000000</td>\n",
       "      <td>1459.000000</td>\n",
       "      <td>1459.000000</td>\n",
       "      <td>1459.000000</td>\n",
       "      <td>1459.000000</td>\n",
       "      <td>1378.000000</td>\n",
       "      <td>1459.000000</td>\n",
       "      <td>1459.000000</td>\n",
       "      <td>1459.000000</td>\n",
       "      <td>1459.000000</td>\n",
       "      <td>1459.000000</td>\n",
       "    </tr>\n",
       "    <tr>\n",
       "      <th>mean</th>\n",
       "      <td>5.575051</td>\n",
       "      <td>1971.272104</td>\n",
       "      <td>1984.879369</td>\n",
       "      <td>443.374914</td>\n",
       "      <td>1057.293352</td>\n",
       "      <td>1162.562714</td>\n",
       "      <td>347.230295</td>\n",
       "      <td>5.848526</td>\n",
       "      <td>0.424949</td>\n",
       "      <td>1.565456</td>\n",
       "      <td>2.866347</td>\n",
       "      <td>6.518163</td>\n",
       "      <td>0.613434</td>\n",
       "      <td>1978.515965</td>\n",
       "      <td>470.934787</td>\n",
       "      <td>2.760795</td>\n",
       "      <td>43.518849</td>\n",
       "      <td>2007.815627</td>\n",
       "      <td>180944.102810</td>\n",
       "    </tr>\n",
       "    <tr>\n",
       "      <th>std</th>\n",
       "      <td>1.113125</td>\n",
       "      <td>30.212814</td>\n",
       "      <td>20.645927</td>\n",
       "      <td>456.142186</td>\n",
       "      <td>438.824912</td>\n",
       "      <td>386.712553</td>\n",
       "      <td>436.583480</td>\n",
       "      <td>48.639512</td>\n",
       "      <td>0.518870</td>\n",
       "      <td>0.550906</td>\n",
       "      <td>0.816050</td>\n",
       "      <td>1.625894</td>\n",
       "      <td>0.644687</td>\n",
       "      <td>24.696004</td>\n",
       "      <td>210.668787</td>\n",
       "      <td>40.191018</td>\n",
       "      <td>496.291826</td>\n",
       "      <td>1.328542</td>\n",
       "      <td>79464.918335</td>\n",
       "    </tr>\n",
       "    <tr>\n",
       "      <th>min</th>\n",
       "      <td>1.000000</td>\n",
       "      <td>1872.000000</td>\n",
       "      <td>1950.000000</td>\n",
       "      <td>0.000000</td>\n",
       "      <td>0.000000</td>\n",
       "      <td>334.000000</td>\n",
       "      <td>0.000000</td>\n",
       "      <td>0.000000</td>\n",
       "      <td>0.000000</td>\n",
       "      <td>0.000000</td>\n",
       "      <td>0.000000</td>\n",
       "      <td>2.000000</td>\n",
       "      <td>0.000000</td>\n",
       "      <td>1900.000000</td>\n",
       "      <td>-129.369350</td>\n",
       "      <td>0.000000</td>\n",
       "      <td>0.000000</td>\n",
       "      <td>2006.000000</td>\n",
       "      <td>34900.000000</td>\n",
       "    </tr>\n",
       "    <tr>\n",
       "      <th>25%</th>\n",
       "      <td>5.000000</td>\n",
       "      <td>1954.000000</td>\n",
       "      <td>1967.000000</td>\n",
       "      <td>0.000000</td>\n",
       "      <td>795.500000</td>\n",
       "      <td>882.000000</td>\n",
       "      <td>0.000000</td>\n",
       "      <td>0.000000</td>\n",
       "      <td>0.000000</td>\n",
       "      <td>1.000000</td>\n",
       "      <td>2.000000</td>\n",
       "      <td>5.000000</td>\n",
       "      <td>0.000000</td>\n",
       "      <td>1961.000000</td>\n",
       "      <td>329.290489</td>\n",
       "      <td>0.000000</td>\n",
       "      <td>0.000000</td>\n",
       "      <td>2007.000000</td>\n",
       "      <td>129950.000000</td>\n",
       "    </tr>\n",
       "    <tr>\n",
       "      <th>50%</th>\n",
       "      <td>5.000000</td>\n",
       "      <td>1973.000000</td>\n",
       "      <td>1994.000000</td>\n",
       "      <td>383.000000</td>\n",
       "      <td>991.000000</td>\n",
       "      <td>1086.000000</td>\n",
       "      <td>0.000000</td>\n",
       "      <td>0.000000</td>\n",
       "      <td>0.000000</td>\n",
       "      <td>2.000000</td>\n",
       "      <td>3.000000</td>\n",
       "      <td>6.000000</td>\n",
       "      <td>1.000000</td>\n",
       "      <td>1980.000000</td>\n",
       "      <td>471.028116</td>\n",
       "      <td>0.000000</td>\n",
       "      <td>0.000000</td>\n",
       "      <td>2008.000000</td>\n",
       "      <td>163000.000000</td>\n",
       "    </tr>\n",
       "    <tr>\n",
       "      <th>75%</th>\n",
       "      <td>6.000000</td>\n",
       "      <td>2000.000000</td>\n",
       "      <td>2004.000000</td>\n",
       "      <td>712.000000</td>\n",
       "      <td>1298.500000</td>\n",
       "      <td>1391.500000</td>\n",
       "      <td>728.000000</td>\n",
       "      <td>0.000000</td>\n",
       "      <td>1.000000</td>\n",
       "      <td>2.000000</td>\n",
       "      <td>3.000000</td>\n",
       "      <td>7.000000</td>\n",
       "      <td>1.000000</td>\n",
       "      <td>2002.000000</td>\n",
       "      <td>607.184977</td>\n",
       "      <td>0.000000</td>\n",
       "      <td>0.000000</td>\n",
       "      <td>2009.000000</td>\n",
       "      <td>214000.000000</td>\n",
       "    </tr>\n",
       "    <tr>\n",
       "      <th>max</th>\n",
       "      <td>9.000000</td>\n",
       "      <td>2010.000000</td>\n",
       "      <td>2010.000000</td>\n",
       "      <td>5644.000000</td>\n",
       "      <td>6110.000000</td>\n",
       "      <td>4692.000000</td>\n",
       "      <td>2065.000000</td>\n",
       "      <td>572.000000</td>\n",
       "      <td>3.000000</td>\n",
       "      <td>3.000000</td>\n",
       "      <td>8.000000</td>\n",
       "      <td>14.000000</td>\n",
       "      <td>3.000000</td>\n",
       "      <td>2010.000000</td>\n",
       "      <td>1147.488093</td>\n",
       "      <td>738.000000</td>\n",
       "      <td>15500.000000</td>\n",
       "      <td>2010.000000</td>\n",
       "      <td>755000.000000</td>\n",
       "    </tr>\n",
       "  </tbody>\n",
       "</table>\n",
       "</div>"
      ],
      "text/plain": [
       "       House_Condition  Construction_Year  Remodel_Year   BsmtFinSF1  \\\n",
       "count      1459.000000        1459.000000   1459.000000  1459.000000   \n",
       "mean          5.575051        1971.272104   1984.879369   443.374914   \n",
       "std           1.113125          30.212814     20.645927   456.142186   \n",
       "min           1.000000        1872.000000   1950.000000     0.000000   \n",
       "25%           5.000000        1954.000000   1967.000000     0.000000   \n",
       "50%           5.000000        1973.000000   1994.000000   383.000000   \n",
       "75%           6.000000        2000.000000   2004.000000   712.000000   \n",
       "max           9.000000        2010.000000   2010.000000  5644.000000   \n",
       "\n",
       "       Total_Basement_Area  First_Floor_Area  Second_Floor_Area  LowQualFinSF  \\\n",
       "count          1459.000000       1459.000000        1459.000000   1459.000000   \n",
       "mean           1057.293352       1162.562714         347.230295      5.848526   \n",
       "std             438.824912        386.712553         436.583480     48.639512   \n",
       "min               0.000000        334.000000           0.000000      0.000000   \n",
       "25%             795.500000        882.000000           0.000000      0.000000   \n",
       "50%             991.000000       1086.000000           0.000000      0.000000   \n",
       "75%            1298.500000       1391.500000         728.000000      0.000000   \n",
       "max            6110.000000       4692.000000        2065.000000    572.000000   \n",
       "\n",
       "       Underground_Full_Bathroom  Full_Bathroom_Above_Grade  \\\n",
       "count                1459.000000                1459.000000   \n",
       "mean                    0.424949                   1.565456   \n",
       "std                     0.518870                   0.550906   \n",
       "min                     0.000000                   0.000000   \n",
       "25%                     0.000000                   1.000000   \n",
       "50%                     0.000000                   2.000000   \n",
       "75%                     1.000000                   2.000000   \n",
       "max                     3.000000                   3.000000   \n",
       "\n",
       "       Bedroom_Above_Grade  Rooms_Above_Grade   Fireplaces  Garage_Built_Year  \\\n",
       "count          1459.000000        1459.000000  1459.000000        1378.000000   \n",
       "mean              2.866347           6.518163     0.613434        1978.515965   \n",
       "std               0.816050           1.625894     0.644687          24.696004   \n",
       "min               0.000000           2.000000     0.000000        1900.000000   \n",
       "25%               2.000000           5.000000     0.000000        1961.000000   \n",
       "50%               3.000000           6.000000     1.000000        1980.000000   \n",
       "75%               3.000000           7.000000     1.000000        2002.000000   \n",
       "max               8.000000          14.000000     3.000000        2010.000000   \n",
       "\n",
       "       Garage_Area    Pool_Area  Miscellaneous_Value    Year_Sold  \\\n",
       "count  1459.000000  1459.000000          1459.000000  1459.000000   \n",
       "mean    470.934787     2.760795            43.518849  2007.815627   \n",
       "std     210.668787    40.191018           496.291826     1.328542   \n",
       "min    -129.369350     0.000000             0.000000  2006.000000   \n",
       "25%     329.290489     0.000000             0.000000  2007.000000   \n",
       "50%     471.028116     0.000000             0.000000  2008.000000   \n",
       "75%     607.184977     0.000000             0.000000  2009.000000   \n",
       "max    1147.488093   738.000000         15500.000000  2010.000000   \n",
       "\n",
       "          Sale_Price  \n",
       "count    1459.000000  \n",
       "mean   180944.102810  \n",
       "std     79464.918335  \n",
       "min     34900.000000  \n",
       "25%    129950.000000  \n",
       "50%    163000.000000  \n",
       "75%    214000.000000  \n",
       "max    755000.000000  "
      ]
     },
     "execution_count": 41,
     "metadata": {},
     "output_type": "execute_result"
    }
   ],
   "source": [
    "# stastical Summary\n",
    "fullDf.describe()"
   ]
  },
  {
   "cell_type": "code",
   "execution_count": 42,
   "id": "13382314",
   "metadata": {},
   "outputs": [
    {
     "data": {
      "text/html": [
       "<div>\n",
       "<style scoped>\n",
       "    .dataframe tbody tr th:only-of-type {\n",
       "        vertical-align: middle;\n",
       "    }\n",
       "\n",
       "    .dataframe tbody tr th {\n",
       "        vertical-align: top;\n",
       "    }\n",
       "\n",
       "    .dataframe thead th {\n",
       "        text-align: right;\n",
       "    }\n",
       "</style>\n",
       "<table border=\"1\" class=\"dataframe\">\n",
       "  <thead>\n",
       "    <tr style=\"text-align: right;\">\n",
       "      <th></th>\n",
       "      <th>Road_Type</th>\n",
       "      <th>Property_Shape</th>\n",
       "      <th>House_Type</th>\n",
       "      <th>House_Condition</th>\n",
       "      <th>Construction_Year</th>\n",
       "      <th>Remodel_Year</th>\n",
       "      <th>BsmtFinSF1</th>\n",
       "      <th>Total_Basement_Area</th>\n",
       "      <th>Air_Conditioning</th>\n",
       "      <th>First_Floor_Area</th>\n",
       "      <th>...</th>\n",
       "      <th>Kitchen_Quality</th>\n",
       "      <th>Rooms_Above_Grade</th>\n",
       "      <th>Fireplaces</th>\n",
       "      <th>Garage</th>\n",
       "      <th>Garage_Built_Year</th>\n",
       "      <th>Garage_Area</th>\n",
       "      <th>Pool_Area</th>\n",
       "      <th>Miscellaneous_Value</th>\n",
       "      <th>Year_Sold</th>\n",
       "      <th>Sale_Price</th>\n",
       "    </tr>\n",
       "  </thead>\n",
       "  <tbody>\n",
       "    <tr>\n",
       "      <th>count</th>\n",
       "      <td>1459</td>\n",
       "      <td>1459</td>\n",
       "      <td>1459</td>\n",
       "      <td>1459.000000</td>\n",
       "      <td>1459.000000</td>\n",
       "      <td>1459.000000</td>\n",
       "      <td>1459.000000</td>\n",
       "      <td>1459.000000</td>\n",
       "      <td>1459</td>\n",
       "      <td>1459.000000</td>\n",
       "      <td>...</td>\n",
       "      <td>1459</td>\n",
       "      <td>1459.000000</td>\n",
       "      <td>1459.000000</td>\n",
       "      <td>1378</td>\n",
       "      <td>1378.000000</td>\n",
       "      <td>1459.000000</td>\n",
       "      <td>1459.000000</td>\n",
       "      <td>1459.000000</td>\n",
       "      <td>1459.000000</td>\n",
       "      <td>1459.000000</td>\n",
       "    </tr>\n",
       "    <tr>\n",
       "      <th>unique</th>\n",
       "      <td>2</td>\n",
       "      <td>4</td>\n",
       "      <td>5</td>\n",
       "      <td>NaN</td>\n",
       "      <td>NaN</td>\n",
       "      <td>NaN</td>\n",
       "      <td>NaN</td>\n",
       "      <td>NaN</td>\n",
       "      <td>2</td>\n",
       "      <td>NaN</td>\n",
       "      <td>...</td>\n",
       "      <td>4</td>\n",
       "      <td>NaN</td>\n",
       "      <td>NaN</td>\n",
       "      <td>7</td>\n",
       "      <td>NaN</td>\n",
       "      <td>NaN</td>\n",
       "      <td>NaN</td>\n",
       "      <td>NaN</td>\n",
       "      <td>NaN</td>\n",
       "      <td>NaN</td>\n",
       "    </tr>\n",
       "    <tr>\n",
       "      <th>top</th>\n",
       "      <td>Paved</td>\n",
       "      <td>Reg</td>\n",
       "      <td>1Fam</td>\n",
       "      <td>NaN</td>\n",
       "      <td>NaN</td>\n",
       "      <td>NaN</td>\n",
       "      <td>NaN</td>\n",
       "      <td>NaN</td>\n",
       "      <td>Y</td>\n",
       "      <td>NaN</td>\n",
       "      <td>...</td>\n",
       "      <td>TA</td>\n",
       "      <td>NaN</td>\n",
       "      <td>NaN</td>\n",
       "      <td>Attchd</td>\n",
       "      <td>NaN</td>\n",
       "      <td>NaN</td>\n",
       "      <td>NaN</td>\n",
       "      <td>NaN</td>\n",
       "      <td>NaN</td>\n",
       "      <td>NaN</td>\n",
       "    </tr>\n",
       "    <tr>\n",
       "      <th>freq</th>\n",
       "      <td>1453</td>\n",
       "      <td>924</td>\n",
       "      <td>1219</td>\n",
       "      <td>NaN</td>\n",
       "      <td>NaN</td>\n",
       "      <td>NaN</td>\n",
       "      <td>NaN</td>\n",
       "      <td>NaN</td>\n",
       "      <td>1364</td>\n",
       "      <td>NaN</td>\n",
       "      <td>...</td>\n",
       "      <td>734</td>\n",
       "      <td>NaN</td>\n",
       "      <td>NaN</td>\n",
       "      <td>869</td>\n",
       "      <td>NaN</td>\n",
       "      <td>NaN</td>\n",
       "      <td>NaN</td>\n",
       "      <td>NaN</td>\n",
       "      <td>NaN</td>\n",
       "      <td>NaN</td>\n",
       "    </tr>\n",
       "    <tr>\n",
       "      <th>mean</th>\n",
       "      <td>NaN</td>\n",
       "      <td>NaN</td>\n",
       "      <td>NaN</td>\n",
       "      <td>5.575051</td>\n",
       "      <td>1971.272104</td>\n",
       "      <td>1984.879369</td>\n",
       "      <td>443.374914</td>\n",
       "      <td>1057.293352</td>\n",
       "      <td>NaN</td>\n",
       "      <td>1162.562714</td>\n",
       "      <td>...</td>\n",
       "      <td>NaN</td>\n",
       "      <td>6.518163</td>\n",
       "      <td>0.613434</td>\n",
       "      <td>NaN</td>\n",
       "      <td>1978.515965</td>\n",
       "      <td>470.934787</td>\n",
       "      <td>2.760795</td>\n",
       "      <td>43.518849</td>\n",
       "      <td>2007.815627</td>\n",
       "      <td>180944.102810</td>\n",
       "    </tr>\n",
       "    <tr>\n",
       "      <th>std</th>\n",
       "      <td>NaN</td>\n",
       "      <td>NaN</td>\n",
       "      <td>NaN</td>\n",
       "      <td>1.113125</td>\n",
       "      <td>30.212814</td>\n",
       "      <td>20.645927</td>\n",
       "      <td>456.142186</td>\n",
       "      <td>438.824912</td>\n",
       "      <td>NaN</td>\n",
       "      <td>386.712553</td>\n",
       "      <td>...</td>\n",
       "      <td>NaN</td>\n",
       "      <td>1.625894</td>\n",
       "      <td>0.644687</td>\n",
       "      <td>NaN</td>\n",
       "      <td>24.696004</td>\n",
       "      <td>210.668787</td>\n",
       "      <td>40.191018</td>\n",
       "      <td>496.291826</td>\n",
       "      <td>1.328542</td>\n",
       "      <td>79464.918335</td>\n",
       "    </tr>\n",
       "    <tr>\n",
       "      <th>min</th>\n",
       "      <td>NaN</td>\n",
       "      <td>NaN</td>\n",
       "      <td>NaN</td>\n",
       "      <td>1.000000</td>\n",
       "      <td>1872.000000</td>\n",
       "      <td>1950.000000</td>\n",
       "      <td>0.000000</td>\n",
       "      <td>0.000000</td>\n",
       "      <td>NaN</td>\n",
       "      <td>334.000000</td>\n",
       "      <td>...</td>\n",
       "      <td>NaN</td>\n",
       "      <td>2.000000</td>\n",
       "      <td>0.000000</td>\n",
       "      <td>NaN</td>\n",
       "      <td>1900.000000</td>\n",
       "      <td>-129.369350</td>\n",
       "      <td>0.000000</td>\n",
       "      <td>0.000000</td>\n",
       "      <td>2006.000000</td>\n",
       "      <td>34900.000000</td>\n",
       "    </tr>\n",
       "    <tr>\n",
       "      <th>25%</th>\n",
       "      <td>NaN</td>\n",
       "      <td>NaN</td>\n",
       "      <td>NaN</td>\n",
       "      <td>5.000000</td>\n",
       "      <td>1954.000000</td>\n",
       "      <td>1967.000000</td>\n",
       "      <td>0.000000</td>\n",
       "      <td>795.500000</td>\n",
       "      <td>NaN</td>\n",
       "      <td>882.000000</td>\n",
       "      <td>...</td>\n",
       "      <td>NaN</td>\n",
       "      <td>5.000000</td>\n",
       "      <td>0.000000</td>\n",
       "      <td>NaN</td>\n",
       "      <td>1961.000000</td>\n",
       "      <td>329.290489</td>\n",
       "      <td>0.000000</td>\n",
       "      <td>0.000000</td>\n",
       "      <td>2007.000000</td>\n",
       "      <td>129950.000000</td>\n",
       "    </tr>\n",
       "    <tr>\n",
       "      <th>50%</th>\n",
       "      <td>NaN</td>\n",
       "      <td>NaN</td>\n",
       "      <td>NaN</td>\n",
       "      <td>5.000000</td>\n",
       "      <td>1973.000000</td>\n",
       "      <td>1994.000000</td>\n",
       "      <td>383.000000</td>\n",
       "      <td>991.000000</td>\n",
       "      <td>NaN</td>\n",
       "      <td>1086.000000</td>\n",
       "      <td>...</td>\n",
       "      <td>NaN</td>\n",
       "      <td>6.000000</td>\n",
       "      <td>1.000000</td>\n",
       "      <td>NaN</td>\n",
       "      <td>1980.000000</td>\n",
       "      <td>471.028116</td>\n",
       "      <td>0.000000</td>\n",
       "      <td>0.000000</td>\n",
       "      <td>2008.000000</td>\n",
       "      <td>163000.000000</td>\n",
       "    </tr>\n",
       "    <tr>\n",
       "      <th>75%</th>\n",
       "      <td>NaN</td>\n",
       "      <td>NaN</td>\n",
       "      <td>NaN</td>\n",
       "      <td>6.000000</td>\n",
       "      <td>2000.000000</td>\n",
       "      <td>2004.000000</td>\n",
       "      <td>712.000000</td>\n",
       "      <td>1298.500000</td>\n",
       "      <td>NaN</td>\n",
       "      <td>1391.500000</td>\n",
       "      <td>...</td>\n",
       "      <td>NaN</td>\n",
       "      <td>7.000000</td>\n",
       "      <td>1.000000</td>\n",
       "      <td>NaN</td>\n",
       "      <td>2002.000000</td>\n",
       "      <td>607.184977</td>\n",
       "      <td>0.000000</td>\n",
       "      <td>0.000000</td>\n",
       "      <td>2009.000000</td>\n",
       "      <td>214000.000000</td>\n",
       "    </tr>\n",
       "    <tr>\n",
       "      <th>max</th>\n",
       "      <td>NaN</td>\n",
       "      <td>NaN</td>\n",
       "      <td>NaN</td>\n",
       "      <td>9.000000</td>\n",
       "      <td>2010.000000</td>\n",
       "      <td>2010.000000</td>\n",
       "      <td>5644.000000</td>\n",
       "      <td>6110.000000</td>\n",
       "      <td>NaN</td>\n",
       "      <td>4692.000000</td>\n",
       "      <td>...</td>\n",
       "      <td>NaN</td>\n",
       "      <td>14.000000</td>\n",
       "      <td>3.000000</td>\n",
       "      <td>NaN</td>\n",
       "      <td>2010.000000</td>\n",
       "      <td>1147.488093</td>\n",
       "      <td>738.000000</td>\n",
       "      <td>15500.000000</td>\n",
       "      <td>2010.000000</td>\n",
       "      <td>755000.000000</td>\n",
       "    </tr>\n",
       "  </tbody>\n",
       "</table>\n",
       "<p>11 rows × 25 columns</p>\n",
       "</div>"
      ],
      "text/plain": [
       "       Road_Type Property_Shape House_Type  House_Condition  \\\n",
       "count       1459           1459       1459      1459.000000   \n",
       "unique         2              4          5              NaN   \n",
       "top        Paved            Reg       1Fam              NaN   \n",
       "freq        1453            924       1219              NaN   \n",
       "mean         NaN            NaN        NaN         5.575051   \n",
       "std          NaN            NaN        NaN         1.113125   \n",
       "min          NaN            NaN        NaN         1.000000   \n",
       "25%          NaN            NaN        NaN         5.000000   \n",
       "50%          NaN            NaN        NaN         5.000000   \n",
       "75%          NaN            NaN        NaN         6.000000   \n",
       "max          NaN            NaN        NaN         9.000000   \n",
       "\n",
       "        Construction_Year  Remodel_Year   BsmtFinSF1  Total_Basement_Area  \\\n",
       "count         1459.000000   1459.000000  1459.000000          1459.000000   \n",
       "unique                NaN           NaN          NaN                  NaN   \n",
       "top                   NaN           NaN          NaN                  NaN   \n",
       "freq                  NaN           NaN          NaN                  NaN   \n",
       "mean          1971.272104   1984.879369   443.374914          1057.293352   \n",
       "std             30.212814     20.645927   456.142186           438.824912   \n",
       "min           1872.000000   1950.000000     0.000000             0.000000   \n",
       "25%           1954.000000   1967.000000     0.000000           795.500000   \n",
       "50%           1973.000000   1994.000000   383.000000           991.000000   \n",
       "75%           2000.000000   2004.000000   712.000000          1298.500000   \n",
       "max           2010.000000   2010.000000  5644.000000          6110.000000   \n",
       "\n",
       "       Air_Conditioning  First_Floor_Area  ...  Kitchen_Quality  \\\n",
       "count              1459       1459.000000  ...             1459   \n",
       "unique                2               NaN  ...                4   \n",
       "top                   Y               NaN  ...               TA   \n",
       "freq               1364               NaN  ...              734   \n",
       "mean                NaN       1162.562714  ...              NaN   \n",
       "std                 NaN        386.712553  ...              NaN   \n",
       "min                 NaN        334.000000  ...              NaN   \n",
       "25%                 NaN        882.000000  ...              NaN   \n",
       "50%                 NaN       1086.000000  ...              NaN   \n",
       "75%                 NaN       1391.500000  ...              NaN   \n",
       "max                 NaN       4692.000000  ...              NaN   \n",
       "\n",
       "        Rooms_Above_Grade   Fireplaces  Garage  Garage_Built_Year  \\\n",
       "count         1459.000000  1459.000000    1378        1378.000000   \n",
       "unique                NaN          NaN       7                NaN   \n",
       "top                   NaN          NaN  Attchd                NaN   \n",
       "freq                  NaN          NaN     869                NaN   \n",
       "mean             6.518163     0.613434     NaN        1978.515965   \n",
       "std              1.625894     0.644687     NaN          24.696004   \n",
       "min              2.000000     0.000000     NaN        1900.000000   \n",
       "25%              5.000000     0.000000     NaN        1961.000000   \n",
       "50%              6.000000     1.000000     NaN        1980.000000   \n",
       "75%              7.000000     1.000000     NaN        2002.000000   \n",
       "max             14.000000     3.000000     NaN        2010.000000   \n",
       "\n",
       "        Garage_Area    Pool_Area  Miscellaneous_Value    Year_Sold  \\\n",
       "count   1459.000000  1459.000000          1459.000000  1459.000000   \n",
       "unique          NaN          NaN                  NaN          NaN   \n",
       "top             NaN          NaN                  NaN          NaN   \n",
       "freq            NaN          NaN                  NaN          NaN   \n",
       "mean     470.934787     2.760795            43.518849  2007.815627   \n",
       "std      210.668787    40.191018           496.291826     1.328542   \n",
       "min     -129.369350     0.000000             0.000000  2006.000000   \n",
       "25%      329.290489     0.000000             0.000000  2007.000000   \n",
       "50%      471.028116     0.000000             0.000000  2008.000000   \n",
       "75%      607.184977     0.000000             0.000000  2009.000000   \n",
       "max     1147.488093   738.000000         15500.000000  2010.000000   \n",
       "\n",
       "           Sale_Price  \n",
       "count     1459.000000  \n",
       "unique            NaN  \n",
       "top               NaN  \n",
       "freq              NaN  \n",
       "mean    180944.102810  \n",
       "std      79464.918335  \n",
       "min      34900.000000  \n",
       "25%     129950.000000  \n",
       "50%     163000.000000  \n",
       "75%     214000.000000  \n",
       "max     755000.000000  \n",
       "\n",
       "[11 rows x 25 columns]"
      ]
     },
     "execution_count": 42,
     "metadata": {},
     "output_type": "execute_result"
    }
   ],
   "source": [
    "fullDf.describe(include='all') # for all columns"
   ]
  },
  {
   "cell_type": "code",
   "execution_count": 43,
   "id": "f495c2b8",
   "metadata": {},
   "outputs": [
    {
     "data": {
      "text/plain": [
       "Road_Type                     0\n",
       "Property_Shape                0\n",
       "House_Type                    0\n",
       "House_Condition               0\n",
       "Construction_Year             0\n",
       "Remodel_Year                  0\n",
       "BsmtFinSF1                    0\n",
       "Total_Basement_Area           0\n",
       "Air_Conditioning              0\n",
       "First_Floor_Area              0\n",
       "Second_Floor_Area             0\n",
       "LowQualFinSF                  0\n",
       "Underground_Full_Bathroom     0\n",
       "Full_Bathroom_Above_Grade     0\n",
       "Bedroom_Above_Grade           0\n",
       "Kitchen_Quality               0\n",
       "Rooms_Above_Grade             0\n",
       "Fireplaces                    0\n",
       "Garage                       81\n",
       "Garage_Built_Year            81\n",
       "Garage_Area                   0\n",
       "Pool_Area                     0\n",
       "Miscellaneous_Value           0\n",
       "Year_Sold                     0\n",
       "Sale_Price                    0\n",
       "dtype: int64"
      ]
     },
     "execution_count": 43,
     "metadata": {},
     "output_type": "execute_result"
    }
   ],
   "source": [
    "# missing values\n",
    "fullDf.isna().sum()"
   ]
  },
  {
   "cell_type": "code",
   "execution_count": 44,
   "id": "e861f07b",
   "metadata": {},
   "outputs": [
    {
     "data": {
      "text/plain": [
       "dtype('O')"
      ]
     },
     "execution_count": 44,
     "metadata": {},
     "output_type": "execute_result"
    }
   ],
   "source": [
    "# Garage\n",
    "fullDf['Garage'].dtypes\n"
   ]
  },
  {
   "cell_type": "code",
   "execution_count": 45,
   "id": "a4d4f829",
   "metadata": {},
   "outputs": [
    {
     "data": {
      "text/plain": [
       "Attchd     869\n",
       "Detchd     387\n",
       "BuiltIn     88\n",
       "Basment     19\n",
       "CarPort      9\n",
       "2TFes        5\n",
       "2Types       1\n",
       "Name: Garage, dtype: int64"
      ]
     },
     "execution_count": 45,
     "metadata": {},
     "output_type": "execute_result"
    }
   ],
   "source": [
    "fullDf['Garage'].value_counts()"
   ]
  },
  {
   "cell_type": "code",
   "execution_count": 46,
   "id": "aecace88",
   "metadata": {},
   "outputs": [
    {
     "data": {
      "text/plain": [
       "<Axes: xlabel='Garage', ylabel='Sale_Price'>"
      ]
     },
     "execution_count": 46,
     "metadata": {},
     "output_type": "execute_result"
    },
    {
     "data": {
      "image/png": "[encoded data removed]",
      "text/plain": [
       "<Figure size 640x480 with 1 Axes>"
      ]
     },
     "metadata": {},
     "output_type": "display_data"
    }
   ],
   "source": [
    "sns.boxplot(y=fullDf['Sale_Price'],x=fullDf['Garage'])"
   ]
  },
  {
   "cell_type": "code",
   "execution_count": 47,
   "id": "71a53a0b",
   "metadata": {},
   "outputs": [],
   "source": [
    "tempMode=fullDf['Garage'].mode()[0]\n",
    "fullDf['Garage'].fillna(tempMode,inplace=True)"
   ]
  },
  {
   "cell_type": "code",
   "execution_count": 48,
   "id": "165dda19",
   "metadata": {},
   "outputs": [
    {
     "data": {
      "text/plain": [
       "dtype('float64')"
      ]
     },
     "execution_count": 48,
     "metadata": {},
     "output_type": "execute_result"
    }
   ],
   "source": [
    "#Garge_Built_Year\n",
    "fullDf['Garage_Built_Year'].dtypes"
   ]
  },
  {
   "cell_type": "code",
   "execution_count": 49,
   "id": "eb9ce5f5",
   "metadata": {},
   "outputs": [],
   "source": [
    "tempMedian=fullDf['Garage_Built_Year'].median()\n",
    "fullDf['Garage_Built_Year'].fillna(tempMedian,inplace=True)"
   ]
  },
  {
   "cell_type": "code",
   "execution_count": 50,
   "id": "7f75a73a",
   "metadata": {},
   "outputs": [
    {
     "data": {
      "text/plain": [
       "Road_Type                    0\n",
       "Property_Shape               0\n",
       "House_Type                   0\n",
       "House_Condition              0\n",
       "Construction_Year            0\n",
       "Remodel_Year                 0\n",
       "BsmtFinSF1                   0\n",
       "Total_Basement_Area          0\n",
       "Air_Conditioning             0\n",
       "First_Floor_Area             0\n",
       "Second_Floor_Area            0\n",
       "LowQualFinSF                 0\n",
       "Underground_Full_Bathroom    0\n",
       "Full_Bathroom_Above_Grade    0\n",
       "Bedroom_Above_Grade          0\n",
       "Kitchen_Quality              0\n",
       "Rooms_Above_Grade            0\n",
       "Fireplaces                   0\n",
       "Garage                       0\n",
       "Garage_Built_Year            0\n",
       "Garage_Area                  0\n",
       "Pool_Area                    0\n",
       "Miscellaneous_Value          0\n",
       "Year_Sold                    0\n",
       "Sale_Price                   0\n",
       "dtype: int64"
      ]
     },
     "execution_count": 50,
     "metadata": {},
     "output_type": "execute_result"
    }
   ],
   "source": [
    "# Let us verify\n",
    "fullDf.isna().sum()"
   ]
  },
  {
   "cell_type": "code",
   "execution_count": 51,
   "id": "69b8b6dd",
   "metadata": {},
   "outputs": [
    {
     "data": {
      "text/plain": [
       "Index(['Road_Type', 'Property_Shape', 'House_Type', 'House_Condition',\n",
       "       'Construction_Year', 'Remodel_Year', 'BsmtFinSF1',\n",
       "       'Total_Basement_Area', 'Air_Conditioning', 'First_Floor_Area',\n",
       "       'Second_Floor_Area', 'LowQualFinSF', 'Underground_Full_Bathroom',\n",
       "       'Full_Bathroom_Above_Grade', 'Bedroom_Above_Grade', 'Kitchen_Quality',\n",
       "       'Rooms_Above_Grade', 'Fireplaces', 'Garage', 'Garage_Built_Year',\n",
       "       'Garage_Area', 'Pool_Area', 'Miscellaneous_Value', 'Year_Sold',\n",
       "       'Sale_Price'],\n",
       "      dtype='object')"
      ]
     },
     "execution_count": 51,
     "metadata": {},
     "output_type": "execute_result"
    }
   ],
   "source": [
    "fullDf.columns"
   ]
  },
  {
   "cell_type": "code",
   "execution_count": 52,
   "id": "01f9aaf1",
   "metadata": {},
   "outputs": [],
   "source": [
    "#Outliers Treatment\n",
    "contVar=fullDf.columns[fullDf.dtypes!='O']"
   ]
  },
  {
   "cell_type": "code",
   "execution_count": 53,
   "id": "c502bed1",
   "metadata": {},
   "outputs": [],
   "source": [
    "#outliers treatment ka formula"
   ]
  },
  {
   "cell_type": "code",
   "execution_count": 54,
   "id": "6be76c58",
   "metadata": {},
   "outputs": [
    {
     "ename": "NameError",
     "evalue": "name 'Q3' is not defined",
     "output_type": "error",
     "traceback": [
      "\u001b[1;31m---------------------------------------------------------------------------\u001b[0m",
      "\u001b[1;31mNameError\u001b[0m                                 Traceback (most recent call last)",
      "Cell \u001b[1;32mIn[54], line 1\u001b[0m\n\u001b[1;32m----> 1\u001b[0m IQR\u001b[38;5;241m=\u001b[39m\u001b[43mQ3\u001b[49m\u001b[38;5;241m-\u001b[39mQ1 \u001b[38;5;66;03m# inter quartile range\u001b[39;00m\n\u001b[0;32m      2\u001b[0m UpperBound\u001b[38;5;241m=\u001b[39mQ3\u001b[38;5;241m+\u001b[39m\u001b[38;5;241m1.5\u001b[39m\u001b[38;5;241m*\u001b[39mIQR\n\u001b[0;32m      3\u001b[0m LowerBound\u001b[38;5;241m=\u001b[39mQ1\u001b[38;5;241m-\u001b[39m\u001b[38;5;241m1.5\u001b[39m\u001b[38;5;241m*\u001b[39mIQR\n",
      "\u001b[1;31mNameError\u001b[0m: name 'Q3' is not defined"
     ]
    }
   ],
   "source": [
    "IQR=Q3-Q1 # inter quartile range\n",
    "UpperBound=Q3+1.5*IQR\n",
    "LowerBound=Q1-1.5*IQR"
   ]
  },
  {
   "cell_type": "code",
   "execution_count": null,
   "id": "9ae095cc",
   "metadata": {},
   "outputs": [],
   "source": [
    "#Outliers Treatment\n",
    "for col in contVar:\n",
    "    if col!='Sale_Price':\n",
    "        \n",
    "        Q1=np.percentile(fullDf[col],25)\n",
    "        Q3=np.percentile(fullDf[col],75)\n",
    "        IQR=Q3-Q1\n",
    "        LowerBound=Q1-1.5*IQR\n",
    "        UpperBound=Q3+1.5*IQR\n",
    "        fullDf[col]=np.where(fullDf[col]<LowerBound,LowerBound,fullDf[col])\n",
    "        fullDf[col]=np.where(fullDf[col]>UpperBound,UpperBound,fullDf[col])\n"
   ]
  },
  {
   "cell_type": "code",
   "execution_count": null,
   "id": "1b2db89d",
   "metadata": {},
   "outputs": [],
   "source": [
    "for col in contVar:\n",
    "    print(col)"
   ]
  },
  {
   "cell_type": "code",
   "execution_count": null,
   "id": "5b1d9ca7",
   "metadata": {},
   "outputs": [],
   "source": [
    "sns.boxplot(y=df['Garage_Area'])"
   ]
  },
  {
   "cell_type": "code",
   "execution_count": null,
   "id": "9978c2da",
   "metadata": {},
   "outputs": [],
   "source": [
    "sns.boxplot(y=fullDf['Garage_Area'])"
   ]
  },
  {
   "cell_type": "code",
   "execution_count": null,
   "id": "33fd7239",
   "metadata": {},
   "outputs": [],
   "source": [
    "# Road Type\n",
    "fullDf['Road_Type'].dtypes\n",
    "fullDf['Road_Type'].value_counts()\n",
    "sns.countplot(x=fullDf['Road_Type'])"
   ]
  },
  {
   "cell_type": "code",
   "execution_count": null,
   "id": "347c7767",
   "metadata": {},
   "outputs": [],
   "source": [
    "fullDf.groupby('Road_Type')['Sale_Price'].mean()"
   ]
  },
  {
   "cell_type": "code",
   "execution_count": null,
   "id": "684bbcc5",
   "metadata": {},
   "outputs": [],
   "source": [
    "# Property_Shape\n",
    "fullDf['Property_Shape'].value_counts()\n",
    "property=fullDf.groupby('Property_Shape')['Sale_Price'].mean()\n",
    "property"
   ]
  },
  {
   "cell_type": "code",
   "execution_count": null,
   "id": "9e839069",
   "metadata": {},
   "outputs": [],
   "source": [
    "plt.pie(property.values,labels=property.index)"
   ]
  },
  {
   "cell_type": "code",
   "execution_count": null,
   "id": "e3588283",
   "metadata": {},
   "outputs": [],
   "source": [
    "#Garage_Area\n",
    "fullDf['Garage_Area'].dtype"
   ]
  },
  {
   "cell_type": "code",
   "execution_count": null,
   "id": "1b52fbb1",
   "metadata": {},
   "outputs": [],
   "source": [
    "sns.histplot(fullDf['Garage_Area'],kde=True)"
   ]
  },
  {
   "cell_type": "code",
   "execution_count": null,
   "id": "08994dc7",
   "metadata": {},
   "outputs": [],
   "source": [
    "#Garage\n",
    "fullDf['Garage'].value_counts()\n",
    "sns.scatterplot(x=fullDf['Garage_Area'],y=fullDf['Sale_Price'])"
   ]
  },
  {
   "cell_type": "code",
   "execution_count": null,
   "id": "899dc47d",
   "metadata": {},
   "outputs": [],
   "source": [
    "sns.scatterplot(x=fullDf['Garage_Area'],y=fullDf['Sale_Price'],hue=fullDf['Garage'])"
   ]
  },
  {
   "cell_type": "code",
   "execution_count": null,
   "id": "4d055225",
   "metadata": {},
   "outputs": [],
   "source": [
    "fullDf['Garage'].value_counts()"
   ]
  },
  {
   "cell_type": "code",
   "execution_count": null,
   "id": "3e6bf33b",
   "metadata": {},
   "outputs": [],
   "source": [
    "# Bivariate Analysis\n",
    "# Continous Indep var. vs continous dep var\n",
    "corrDf=fullDf.corr()\n",
    "corrDf"
   ]
  },
  {
   "cell_type": "code",
   "execution_count": null,
   "id": "efa48b23",
   "metadata": {},
   "outputs": [],
   "source": [
    "fullDf['Pool_Area'].head()\n",
    "fullDf['Miscellaneous_Value'].value_counts()\n",
    "fullDf['Pool_Area'].value_counts()\n",
    "fullDf['LowQualFinSF'].value_counts()"
   ]
  },
  {
   "cell_type": "code",
   "execution_count": null,
   "id": "d9da78cc",
   "metadata": {},
   "outputs": [],
   "source": [
    "df['Pool_Area'].value_counts()"
   ]
  },
  {
   "cell_type": "code",
   "execution_count": null,
   "id": "abeb1b4f",
   "metadata": {},
   "outputs": [],
   "source": [
    "corrDf=fullDf.drop(['Pool_Area','Miscellaneous_Value','LowQualFinSF'],axis=1).corr()\n",
    "corrDf"
   ]
  },
  {
   "cell_type": "code",
   "execution_count": 55,
   "id": "4170b81b",
   "metadata": {},
   "outputs": [
    {
     "ename": "NameError",
     "evalue": "name 'corrDf' is not defined",
     "output_type": "error",
     "traceback": [
      "\u001b[1;31m---------------------------------------------------------------------------\u001b[0m",
      "\u001b[1;31mNameError\u001b[0m                                 Traceback (most recent call last)",
      "Cell \u001b[1;32mIn[55], line 2\u001b[0m\n\u001b[0;32m      1\u001b[0m plt\u001b[38;5;241m.\u001b[39mfigsize\u001b[38;5;241m=\u001b[39m(\u001b[38;5;241m10\u001b[39m,\u001b[38;5;241m15\u001b[39m)\n\u001b[1;32m----> 2\u001b[0m sns\u001b[38;5;241m.\u001b[39mheatmap(\u001b[43mcorrDf\u001b[49m,annot\u001b[38;5;241m=\u001b[39m\u001b[38;5;28;01mTrue\u001b[39;00m,cmap\u001b[38;5;241m=\u001b[39m\u001b[38;5;124m'\u001b[39m\u001b[38;5;124mrainbow\u001b[39m\u001b[38;5;124m'\u001b[39m)\n",
      "\u001b[1;31mNameError\u001b[0m: name 'corrDf' is not defined"
     ]
    }
   ],
   "source": [
    "plt.figsize=(10,15)\n",
    "sns.heatmap(corrDf,annot=True,cmap='rainbow')"
   ]
  },
  {
   "cell_type": "code",
   "execution_count": 72,
   "id": "bf864847",
   "metadata": {},
   "outputs": [],
   "source": [
    "# Indep categorical var VS dep.continous var\n",
    " "
   ]
  },
  {
   "cell_type": "code",
   "execution_count": 68,
   "id": "dcfd1cfc",
   "metadata": {},
   "outputs": [],
   "source": [
    "CatVar=fullDf.columns[fullDf.dtypes==\"O\"]\n"
   ]
  },
  {
   "cell_type": "code",
   "execution_count": 69,
   "id": "bc712463",
   "metadata": {},
   "outputs": [
    {
     "data": {
      "text/plain": [
       "<Axes: xlabel='Road_Type', ylabel='Sale_Price'>"
      ]
     },
     "execution_count": 69,
     "metadata": {},
     "output_type": "execute_result"
    },
    {
     "data": {
      "image/png": "[encoded data removed]",
      "text/plain": [
       "<Figure size 640x480 with 1 Axes>"
      ]
     },
     "metadata": {},
     "output_type": "display_data"
    }
   ],
   "source": [
    "#plt.figure(figsize=10,10)\n",
    "sns.boxplot(y=fullDf[\"Sale_Price\"],x=fullDf[\"Road_Type\"])"
   ]
  },
  {
   "cell_type": "code",
   "execution_count": null,
   "id": "93e7d5bb",
   "metadata": {},
   "outputs": [],
   "source": []
  },
  {
   "cell_type": "code",
   "execution_count": 115,
   "id": "550808ba",
   "metadata": {},
   "outputs": [
    {
     "name": "stdout",
     "output_type": "stream",
     "text": [
      "Road_Type\n",
      "Property_Shape\n",
      "House_Type\n",
      "Air_Conditioning\n",
      "Kitchen_Quality\n",
      "Garage\n"
     ]
    },
    {
     "data": {
      "image/png": "[encoded data removed]",
      "text/plain": [
       "<Figure size 640x480 with 1 Axes>"
      ]
     },
     "metadata": {},
     "output_type": "display_data"
    },
    {
     "data": {
      "image/png": "[encoded data removed]",
      "text/plain": [
       "<Figure size 640x480 with 1 Axes>"
      ]
     },
     "metadata": {},
     "output_type": "display_data"
    },
    {
     "data": {
      "image/png": "[encoded data removed]",
      "text/plain": [
       "<Figure size 640x480 with 1 Axes>"
      ]
     },
     "metadata": {},
     "output_type": "display_data"
    },
    {
     "data": {
      "image/png": "[encoded data removed]",
      "text/plain": [
       "<Figure size 640x480 with 1 Axes>"
      ]
     },
     "metadata": {},
     "output_type": "display_data"
    },
    {
     "data": {
      "image/png": "[encoded data removed]",
      "text/plain": [
       "<Figure size 640x480 with 1 Axes>"
      ]
     },
     "metadata": {},
     "output_type": "display_data"
    },
    {
     "data": {
      "image/png": "[encoded data removed]",
      "text/plain": [
       "<Figure size 640x480 with 1 Axes>"
      ]
     },
     "metadata": {},
     "output_type": "display_data"
    }
   ],
   "source": [
    "#Automating the whole proccess\n",
    "for i in CatVar:\n",
    "    print(i)\n",
    "    plt.figure()\n",
    "    sns.boxplot(y=fullDf['Sale_Price'],x=fullDf[i])"
   ]
  },
  {
   "cell_type": "code",
   "execution_count": 77,
   "id": "d8782b49",
   "metadata": {},
   "outputs": [
    {
     "data": {
      "text/html": [
       "<div>\n",
       "<style scoped>\n",
       "    .dataframe tbody tr th:only-of-type {\n",
       "        vertical-align: middle;\n",
       "    }\n",
       "\n",
       "    .dataframe tbody tr th {\n",
       "        vertical-align: top;\n",
       "    }\n",
       "\n",
       "    .dataframe thead th {\n",
       "        text-align: right;\n",
       "    }\n",
       "</style>\n",
       "<table border=\"1\" class=\"dataframe\">\n",
       "  <thead>\n",
       "    <tr style=\"text-align: right;\">\n",
       "      <th></th>\n",
       "      <th>Id</th>\n",
       "      <th>Road_Type</th>\n",
       "      <th>Property_Shape</th>\n",
       "      <th>House_Type</th>\n",
       "      <th>House_Condition</th>\n",
       "      <th>Construction_Year</th>\n",
       "      <th>Remodel_Year</th>\n",
       "      <th>BsmtFinSF1</th>\n",
       "      <th>Total_Basement_Area</th>\n",
       "      <th>Air_Conditioning</th>\n",
       "      <th>...</th>\n",
       "      <th>Kitchen_Quality</th>\n",
       "      <th>Rooms_Above_Grade</th>\n",
       "      <th>Fireplaces</th>\n",
       "      <th>Garage</th>\n",
       "      <th>Garage_Built_Year</th>\n",
       "      <th>Garage_Area</th>\n",
       "      <th>Pool_Area</th>\n",
       "      <th>Miscellaneous_Value</th>\n",
       "      <th>Year_Sold</th>\n",
       "      <th>Sale_Price</th>\n",
       "    </tr>\n",
       "  </thead>\n",
       "  <tbody>\n",
       "    <tr>\n",
       "      <th>0</th>\n",
       "      <td>1</td>\n",
       "      <td>Paved</td>\n",
       "      <td>Reg</td>\n",
       "      <td>1Fam</td>\n",
       "      <td>5</td>\n",
       "      <td>2003</td>\n",
       "      <td>2003</td>\n",
       "      <td>706</td>\n",
       "      <td>856</td>\n",
       "      <td>Y</td>\n",
       "      <td>...</td>\n",
       "      <td>Gd</td>\n",
       "      <td>8</td>\n",
       "      <td>0</td>\n",
       "      <td>Attchd</td>\n",
       "      <td>2003.0</td>\n",
       "      <td>1085.793744</td>\n",
       "      <td>0</td>\n",
       "      <td>0</td>\n",
       "      <td>2008</td>\n",
       "      <td>208500</td>\n",
       "    </tr>\n",
       "    <tr>\n",
       "      <th>1</th>\n",
       "      <td>2</td>\n",
       "      <td>Paved</td>\n",
       "      <td>Reg</td>\n",
       "      <td>1Fam</td>\n",
       "      <td>8</td>\n",
       "      <td>1976</td>\n",
       "      <td>1976</td>\n",
       "      <td>978</td>\n",
       "      <td>1262</td>\n",
       "      <td>Y</td>\n",
       "      <td>...</td>\n",
       "      <td>TA</td>\n",
       "      <td>6</td>\n",
       "      <td>1</td>\n",
       "      <td>Attchd</td>\n",
       "      <td>1976.0</td>\n",
       "      <td>196.316304</td>\n",
       "      <td>0</td>\n",
       "      <td>0</td>\n",
       "      <td>2007</td>\n",
       "      <td>181500</td>\n",
       "    </tr>\n",
       "    <tr>\n",
       "      <th>2</th>\n",
       "      <td>3</td>\n",
       "      <td>Paved</td>\n",
       "      <td>IR1</td>\n",
       "      <td>1Fam</td>\n",
       "      <td>5</td>\n",
       "      <td>2001</td>\n",
       "      <td>2002</td>\n",
       "      <td>486</td>\n",
       "      <td>920</td>\n",
       "      <td>Y</td>\n",
       "      <td>...</td>\n",
       "      <td>Gd</td>\n",
       "      <td>6</td>\n",
       "      <td>1</td>\n",
       "      <td>Attchd</td>\n",
       "      <td>2001.0</td>\n",
       "      <td>218.068403</td>\n",
       "      <td>0</td>\n",
       "      <td>0</td>\n",
       "      <td>2008</td>\n",
       "      <td>223500</td>\n",
       "    </tr>\n",
       "    <tr>\n",
       "      <th>3</th>\n",
       "      <td>4</td>\n",
       "      <td>Paved</td>\n",
       "      <td>IR1</td>\n",
       "      <td>1Fam</td>\n",
       "      <td>5</td>\n",
       "      <td>1915</td>\n",
       "      <td>1970</td>\n",
       "      <td>216</td>\n",
       "      <td>756</td>\n",
       "      <td>Y</td>\n",
       "      <td>...</td>\n",
       "      <td>Gd</td>\n",
       "      <td>7</td>\n",
       "      <td>1</td>\n",
       "      <td>Detchd</td>\n",
       "      <td>1998.0</td>\n",
       "      <td>696.996439</td>\n",
       "      <td>0</td>\n",
       "      <td>0</td>\n",
       "      <td>2006</td>\n",
       "      <td>140000</td>\n",
       "    </tr>\n",
       "    <tr>\n",
       "      <th>4</th>\n",
       "      <td>5</td>\n",
       "      <td>Paved</td>\n",
       "      <td>IR1</td>\n",
       "      <td>1Fam</td>\n",
       "      <td>5</td>\n",
       "      <td>2000</td>\n",
       "      <td>2000</td>\n",
       "      <td>655</td>\n",
       "      <td>1145</td>\n",
       "      <td>Y</td>\n",
       "      <td>...</td>\n",
       "      <td>Gd</td>\n",
       "      <td>9</td>\n",
       "      <td>1</td>\n",
       "      <td>Attchd</td>\n",
       "      <td>2000.0</td>\n",
       "      <td>568.859882</td>\n",
       "      <td>0</td>\n",
       "      <td>0</td>\n",
       "      <td>2008</td>\n",
       "      <td>250000</td>\n",
       "    </tr>\n",
       "  </tbody>\n",
       "</table>\n",
       "<p>5 rows × 26 columns</p>\n",
       "</div>"
      ],
      "text/plain": [
       "   Id Road_Type Property_Shape House_Type  House_Condition  Construction_Year  \\\n",
       "0   1     Paved            Reg       1Fam                5               2003   \n",
       "1   2     Paved            Reg       1Fam                8               1976   \n",
       "2   3     Paved            IR1       1Fam                5               2001   \n",
       "3   4     Paved            IR1       1Fam                5               1915   \n",
       "4   5     Paved            IR1       1Fam                5               2000   \n",
       "\n",
       "   Remodel_Year  BsmtFinSF1  Total_Basement_Area Air_Conditioning  ...  \\\n",
       "0          2003         706                  856                Y  ...   \n",
       "1          1976         978                 1262                Y  ...   \n",
       "2          2002         486                  920                Y  ...   \n",
       "3          1970         216                  756                Y  ...   \n",
       "4          2000         655                 1145                Y  ...   \n",
       "\n",
       "   Kitchen_Quality  Rooms_Above_Grade  Fireplaces  Garage  Garage_Built_Year  \\\n",
       "0               Gd                  8           0  Attchd             2003.0   \n",
       "1               TA                  6           1  Attchd             1976.0   \n",
       "2               Gd                  6           1  Attchd             2001.0   \n",
       "3               Gd                  7           1  Detchd             1998.0   \n",
       "4               Gd                  9           1  Attchd             2000.0   \n",
       "\n",
       "   Garage_Area Pool_Area  Miscellaneous_Value  Year_Sold Sale_Price  \n",
       "0  1085.793744         0                    0       2008     208500  \n",
       "1   196.316304         0                    0       2007     181500  \n",
       "2   218.068403         0                    0       2008     223500  \n",
       "3   696.996439         0                    0       2006     140000  \n",
       "4   568.859882         0                    0       2008     250000  \n",
       "\n",
       "[5 rows x 26 columns]"
      ]
     },
     "execution_count": 77,
     "metadata": {},
     "output_type": "execute_result"
    }
   ],
   "source": [
    "df.head()"
   ]
  },
  {
   "cell_type": "code",
   "execution_count": 78,
   "id": "3e9f1afa",
   "metadata": {},
   "outputs": [
    {
     "data": {
      "text/plain": [
       "0      1452\n",
       "512       1\n",
       "648       1\n",
       "576       1\n",
       "555       1\n",
       "480       1\n",
       "519       1\n",
       "738       1\n",
       "Name: Pool_Area, dtype: int64"
      ]
     },
     "execution_count": 78,
     "metadata": {},
     "output_type": "execute_result"
    }
   ],
   "source": [
    "df['Pool_Area'].value_counts()"
   ]
  },
  {
   "cell_type": "code",
   "execution_count": 79,
   "id": "05179119",
   "metadata": {},
   "outputs": [],
   "source": [
    "df[\"Pool_Status\"]=np.where(df['Pool_Area']==0,'NoPool','YesPool')"
   ]
  },
  {
   "cell_type": "code",
   "execution_count": 81,
   "id": "25a52645",
   "metadata": {},
   "outputs": [
    {
     "data": {
      "text/plain": [
       "<Axes: xlabel='Pool_Status', ylabel='Sale_Price'>"
      ]
     },
     "execution_count": 81,
     "metadata": {},
     "output_type": "execute_result"
    },
    {
     "data": {
      "image/png": "[encoded data removed]",
      "text/plain": [
       "<Figure size 640x480 with 1 Axes>"
      ]
     },
     "metadata": {},
     "output_type": "display_data"
    }
   ],
   "source": [
    "sns.boxplot(y=df['Sale_Price'],x=df['Pool_Status'])"
   ]
  },
  {
   "cell_type": "code",
   "execution_count": 82,
   "id": "9dacede1",
   "metadata": {},
   "outputs": [
    {
     "data": {
      "text/plain": [
       "0        1407\n",
       "400        11\n",
       "500         8\n",
       "700         5\n",
       "450         4\n",
       "600         4\n",
       "2000        4\n",
       "1200        2\n",
       "480         2\n",
       "15500       1\n",
       "800         1\n",
       "350         1\n",
       "3500        1\n",
       "1300        1\n",
       "54          1\n",
       "620         1\n",
       "560         1\n",
       "1400        1\n",
       "8300        1\n",
       "1150        1\n",
       "2500        1\n",
       "Name: Miscellaneous_Value, dtype: int64"
      ]
     },
     "execution_count": 82,
     "metadata": {},
     "output_type": "execute_result"
    }
   ],
   "source": [
    "df['Miscellaneous_Value'].value_counts()"
   ]
  },
  {
   "cell_type": "code",
   "execution_count": 84,
   "id": "7f3afdab",
   "metadata": {},
   "outputs": [],
   "source": [
    "df['MiscVal']=np.where(df['Miscellaneous_Value']==0,\"NoMiscItem\",\"YesMiscItem\")"
   ]
  },
  {
   "cell_type": "code",
   "execution_count": 85,
   "id": "286db5fc",
   "metadata": {},
   "outputs": [
    {
     "data": {
      "text/plain": [
       "<Axes: xlabel='MiscVal', ylabel='Sale_Price'>"
      ]
     },
     "execution_count": 85,
     "metadata": {},
     "output_type": "execute_result"
    },
    {
     "data": {
      "image/png": "[encoded data removed]",
      "text/plain": [
       "<Figure size 640x480 with 1 Axes>"
      ]
     },
     "metadata": {},
     "output_type": "display_data"
    }
   ],
   "source": [
    "sns.boxplot(y=df['Sale_Price'],x=df['MiscVal'])"
   ]
  },
  {
   "cell_type": "code",
   "execution_count": 88,
   "id": "3bff7e2c",
   "metadata": {},
   "outputs": [],
   "source": [
    "df['LowQualStaus']=np.where(df['LowQualFinSF']==0, \"NoLowQual\",\"YesLowQual\")"
   ]
  },
  {
   "cell_type": "code",
   "execution_count": 92,
   "id": "7911fbb9",
   "metadata": {},
   "outputs": [
    {
     "data": {
      "text/plain": [
       "<Axes: xlabel='LowQualStaus', ylabel='Sale_Price'>"
      ]
     },
     "execution_count": 92,
     "metadata": {},
     "output_type": "execute_result"
    },
    {
     "data": {
      "image/png": "[encoded data removed]",
      "text/plain": [
       "<Figure size 640x480 with 1 Axes>"
      ]
     },
     "metadata": {},
     "output_type": "display_data"
    }
   ],
   "source": [
    "sns.boxplot(y=df['Sale_Price'],x=df['LowQualStaus'])"
   ]
  },
  {
   "cell_type": "code",
   "execution_count": 94,
   "id": "78fca997",
   "metadata": {},
   "outputs": [
    {
     "data": {
      "text/html": [
       "<div>\n",
       "<style scoped>\n",
       "    .dataframe tbody tr th:only-of-type {\n",
       "        vertical-align: middle;\n",
       "    }\n",
       "\n",
       "    .dataframe tbody tr th {\n",
       "        vertical-align: top;\n",
       "    }\n",
       "\n",
       "    .dataframe thead th {\n",
       "        text-align: right;\n",
       "    }\n",
       "</style>\n",
       "<table border=\"1\" class=\"dataframe\">\n",
       "  <thead>\n",
       "    <tr style=\"text-align: right;\">\n",
       "      <th></th>\n",
       "      <th>Total_Basement_Area</th>\n",
       "      <th>Fireplaces</th>\n",
       "      <th>Garage_Area</th>\n",
       "    </tr>\n",
       "  </thead>\n",
       "  <tbody>\n",
       "    <tr>\n",
       "      <th>0</th>\n",
       "      <td>856</td>\n",
       "      <td>0</td>\n",
       "      <td>1085.793744</td>\n",
       "    </tr>\n",
       "    <tr>\n",
       "      <th>1</th>\n",
       "      <td>1262</td>\n",
       "      <td>1</td>\n",
       "      <td>196.316304</td>\n",
       "    </tr>\n",
       "    <tr>\n",
       "      <th>2</th>\n",
       "      <td>920</td>\n",
       "      <td>1</td>\n",
       "      <td>218.068403</td>\n",
       "    </tr>\n",
       "    <tr>\n",
       "      <th>3</th>\n",
       "      <td>756</td>\n",
       "      <td>1</td>\n",
       "      <td>696.996439</td>\n",
       "    </tr>\n",
       "    <tr>\n",
       "      <th>4</th>\n",
       "      <td>1145</td>\n",
       "      <td>1</td>\n",
       "      <td>568.859882</td>\n",
       "    </tr>\n",
       "  </tbody>\n",
       "</table>\n",
       "</div>"
      ],
      "text/plain": [
       "   Total_Basement_Area  Fireplaces  Garage_Area\n",
       "0                  856           0  1085.793744\n",
       "1                 1262           1   196.316304\n",
       "2                  920           1   218.068403\n",
       "3                  756           1   696.996439\n",
       "4                 1145           1   568.859882"
      ]
     },
     "execution_count": 94,
     "metadata": {},
     "output_type": "execute_result"
    }
   ],
   "source": [
    "contVar\n",
    "df[['Total_Basement_Area','Fireplaces','Garage_Area']].head()"
   ]
  },
  {
   "cell_type": "code",
   "execution_count": 105,
   "id": "7ef47a43",
   "metadata": {},
   "outputs": [],
   "source": [
    "#Scaling\n",
    "from sklearn.preprocessing import MinMaxScaler\n",
    "scaler=MinMaxScaler().fit(df[contVar])"
   ]
  },
  {
   "cell_type": "code",
   "execution_count": 111,
   "id": "23535078",
   "metadata": {},
   "outputs": [],
   "source": [
    "dfcontScaler=scaler.transform(df[contVar])"
   ]
  },
  {
   "cell_type": "code",
   "execution_count": 112,
   "id": "c2e7cf43",
   "metadata": {},
   "outputs": [],
   "source": [
    "dfContScalerDf=pd.DataFrame(dfcontScaler,columns=contVar)"
   ]
  },
  {
   "cell_type": "code",
   "execution_count": 113,
   "id": "89575ac3",
   "metadata": {},
   "outputs": [
    {
     "data": {
      "text/html": [
       "<div>\n",
       "<style scoped>\n",
       "    .dataframe tbody tr th:only-of-type {\n",
       "        vertical-align: middle;\n",
       "    }\n",
       "\n",
       "    .dataframe tbody tr th {\n",
       "        vertical-align: top;\n",
       "    }\n",
       "\n",
       "    .dataframe thead th {\n",
       "        text-align: right;\n",
       "    }\n",
       "</style>\n",
       "<table border=\"1\" class=\"dataframe\">\n",
       "  <thead>\n",
       "    <tr style=\"text-align: right;\">\n",
       "      <th></th>\n",
       "      <th>House_Condition</th>\n",
       "      <th>Construction_Year</th>\n",
       "      <th>Remodel_Year</th>\n",
       "      <th>BsmtFinSF1</th>\n",
       "      <th>Total_Basement_Area</th>\n",
       "      <th>First_Floor_Area</th>\n",
       "      <th>Second_Floor_Area</th>\n",
       "      <th>LowQualFinSF</th>\n",
       "      <th>Underground_Full_Bathroom</th>\n",
       "      <th>Full_Bathroom_Above_Grade</th>\n",
       "      <th>Bedroom_Above_Grade</th>\n",
       "      <th>Rooms_Above_Grade</th>\n",
       "      <th>Fireplaces</th>\n",
       "      <th>Garage_Built_Year</th>\n",
       "      <th>Garage_Area</th>\n",
       "      <th>Pool_Area</th>\n",
       "      <th>Miscellaneous_Value</th>\n",
       "      <th>Year_Sold</th>\n",
       "      <th>Sale_Price</th>\n",
       "    </tr>\n",
       "  </thead>\n",
       "  <tbody>\n",
       "    <tr>\n",
       "      <th>0</th>\n",
       "      <td>0.500</td>\n",
       "      <td>0.949275</td>\n",
       "      <td>0.883333</td>\n",
       "      <td>0.125089</td>\n",
       "      <td>0.140098</td>\n",
       "      <td>0.119780</td>\n",
       "      <td>0.413559</td>\n",
       "      <td>0.0</td>\n",
       "      <td>0.333333</td>\n",
       "      <td>0.666667</td>\n",
       "      <td>0.375</td>\n",
       "      <td>0.500000</td>\n",
       "      <td>0.000000</td>\n",
       "      <td>0.936364</td>\n",
       "      <td>0.951683</td>\n",
       "      <td>0.0</td>\n",
       "      <td>0.0</td>\n",
       "      <td>0.50</td>\n",
       "      <td>0.241078</td>\n",
       "    </tr>\n",
       "    <tr>\n",
       "      <th>1</th>\n",
       "      <td>0.875</td>\n",
       "      <td>0.753623</td>\n",
       "      <td>0.433333</td>\n",
       "      <td>0.173281</td>\n",
       "      <td>0.206547</td>\n",
       "      <td>0.212942</td>\n",
       "      <td>0.000000</td>\n",
       "      <td>0.0</td>\n",
       "      <td>0.000000</td>\n",
       "      <td>0.666667</td>\n",
       "      <td>0.375</td>\n",
       "      <td>0.333333</td>\n",
       "      <td>0.333333</td>\n",
       "      <td>0.690909</td>\n",
       "      <td>0.255068</td>\n",
       "      <td>0.0</td>\n",
       "      <td>0.0</td>\n",
       "      <td>0.25</td>\n",
       "      <td>0.203583</td>\n",
       "    </tr>\n",
       "    <tr>\n",
       "      <th>2</th>\n",
       "      <td>0.500</td>\n",
       "      <td>0.934783</td>\n",
       "      <td>0.866667</td>\n",
       "      <td>0.086109</td>\n",
       "      <td>0.150573</td>\n",
       "      <td>0.134465</td>\n",
       "      <td>0.419370</td>\n",
       "      <td>0.0</td>\n",
       "      <td>0.333333</td>\n",
       "      <td>0.666667</td>\n",
       "      <td>0.375</td>\n",
       "      <td>0.333333</td>\n",
       "      <td>0.333333</td>\n",
       "      <td>0.918182</td>\n",
       "      <td>0.272104</td>\n",
       "      <td>0.0</td>\n",
       "      <td>0.0</td>\n",
       "      <td>0.50</td>\n",
       "      <td>0.261908</td>\n",
       "    </tr>\n",
       "    <tr>\n",
       "      <th>3</th>\n",
       "      <td>0.500</td>\n",
       "      <td>0.311594</td>\n",
       "      <td>0.333333</td>\n",
       "      <td>0.038271</td>\n",
       "      <td>0.123732</td>\n",
       "      <td>0.143873</td>\n",
       "      <td>0.366102</td>\n",
       "      <td>0.0</td>\n",
       "      <td>0.333333</td>\n",
       "      <td>0.333333</td>\n",
       "      <td>0.375</td>\n",
       "      <td>0.416667</td>\n",
       "      <td>0.333333</td>\n",
       "      <td>0.890909</td>\n",
       "      <td>0.647187</td>\n",
       "      <td>0.0</td>\n",
       "      <td>0.0</td>\n",
       "      <td>0.00</td>\n",
       "      <td>0.145952</td>\n",
       "    </tr>\n",
       "    <tr>\n",
       "      <th>4</th>\n",
       "      <td>0.500</td>\n",
       "      <td>0.927536</td>\n",
       "      <td>0.833333</td>\n",
       "      <td>0.116052</td>\n",
       "      <td>0.187398</td>\n",
       "      <td>0.186095</td>\n",
       "      <td>0.509927</td>\n",
       "      <td>0.0</td>\n",
       "      <td>0.333333</td>\n",
       "      <td>0.666667</td>\n",
       "      <td>0.500</td>\n",
       "      <td>0.583333</td>\n",
       "      <td>0.333333</td>\n",
       "      <td>0.909091</td>\n",
       "      <td>0.546834</td>\n",
       "      <td>0.0</td>\n",
       "      <td>0.0</td>\n",
       "      <td>0.50</td>\n",
       "      <td>0.298709</td>\n",
       "    </tr>\n",
       "  </tbody>\n",
       "</table>\n",
       "</div>"
      ],
      "text/plain": [
       "   House_Condition  Construction_Year  Remodel_Year  BsmtFinSF1  \\\n",
       "0            0.500           0.949275      0.883333    0.125089   \n",
       "1            0.875           0.753623      0.433333    0.173281   \n",
       "2            0.500           0.934783      0.866667    0.086109   \n",
       "3            0.500           0.311594      0.333333    0.038271   \n",
       "4            0.500           0.927536      0.833333    0.116052   \n",
       "\n",
       "   Total_Basement_Area  First_Floor_Area  Second_Floor_Area  LowQualFinSF  \\\n",
       "0             0.140098          0.119780           0.413559           0.0   \n",
       "1             0.206547          0.212942           0.000000           0.0   \n",
       "2             0.150573          0.134465           0.419370           0.0   \n",
       "3             0.123732          0.143873           0.366102           0.0   \n",
       "4             0.187398          0.186095           0.509927           0.0   \n",
       "\n",
       "   Underground_Full_Bathroom  Full_Bathroom_Above_Grade  Bedroom_Above_Grade  \\\n",
       "0                   0.333333                   0.666667                0.375   \n",
       "1                   0.000000                   0.666667                0.375   \n",
       "2                   0.333333                   0.666667                0.375   \n",
       "3                   0.333333                   0.333333                0.375   \n",
       "4                   0.333333                   0.666667                0.500   \n",
       "\n",
       "   Rooms_Above_Grade  Fireplaces  Garage_Built_Year  Garage_Area  Pool_Area  \\\n",
       "0           0.500000    0.000000           0.936364     0.951683        0.0   \n",
       "1           0.333333    0.333333           0.690909     0.255068        0.0   \n",
       "2           0.333333    0.333333           0.918182     0.272104        0.0   \n",
       "3           0.416667    0.333333           0.890909     0.647187        0.0   \n",
       "4           0.583333    0.333333           0.909091     0.546834        0.0   \n",
       "\n",
       "   Miscellaneous_Value  Year_Sold  Sale_Price  \n",
       "0                  0.0       0.50    0.241078  \n",
       "1                  0.0       0.25    0.203583  \n",
       "2                  0.0       0.50    0.261908  \n",
       "3                  0.0       0.00    0.145952  \n",
       "4                  0.0       0.50    0.298709  "
      ]
     },
     "execution_count": 113,
     "metadata": {},
     "output_type": "execute_result"
    }
   ],
   "source": [
    "dfContScalerDf.head()"
   ]
  },
  {
   "cell_type": "code",
   "execution_count": null,
   "id": "49a7d869",
   "metadata": {},
   "outputs": [],
   "source": []
  },
  {
   "cell_type": "code",
   "execution_count": null,
   "id": "bd371244",
   "metadata": {},
   "outputs": [],
   "source": []
  }
 ],
 "metadata": {
  "kernelspec": {
   "display_name": "Python 3 (ipykernel)",
   "language": "python",
   "name": "python3"
  },
  "language_info": {
   "codemirror_mode": {
    "name": "ipython",
    "version": 3
   },
   "file_extension": ".py",
   "mimetype": "text/x-python",
   "name": "python",
   "nbconvert_exporter": "python",
   "pygments_lexer": "ipython3",
   "version": "3.10.9"
  }
 },
 "nbformat": 4,
 "nbformat_minor": 5
}
